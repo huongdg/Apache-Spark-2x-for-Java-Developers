{
  "nbformat": 4,
  "nbformat_minor": 0,
  "metadata": {
    "colab": {
      "name": "demo_model.ipynb",
      "provenance": [],
      "collapsed_sections": [],
      "include_colab_link": true
    },
    "kernelspec": {
      "name": "python3",
      "display_name": "Python 3"
    },
    "language_info": {
      "name": "python"
    },
    "accelerator": "GPU"
  },
  "cells": [
    {
      "cell_type": "markdown",
      "metadata": {
        "id": "view-in-github",
        "colab_type": "text"
      },
      "source": [
        "<a href=\"https://colab.research.google.com/github/huongdg/Apache-Spark-2x-for-Java-Developers/blob/master/GCN%2BCNN.ipynb\" target=\"_parent\"><img src=\"https://colab.research.google.com/assets/colab-badge.svg\" alt=\"Open In Colab\"/></a>"
      ]
    },
    {
      "cell_type": "code",
      "metadata": {
        "id": "76Z9h4mTqx-M",
        "colab": {
          "base_uri": "https://localhost:8080/"
        },
        "outputId": "8c8e1ee4-6cda-43e3-bb83-90d87c3291b5"
      },
      "source": [
        "from google.colab import drive\n",
        "drive.mount('/content/drive', force_remount=True)\n",
        "\n",
        "!rm -r /content/sample_data"
      ],
      "execution_count": 1,
      "outputs": [
        {
          "output_type": "stream",
          "name": "stdout",
          "text": [
            "Mounted at /content/drive\n"
          ]
        }
      ]
    },
    {
      "cell_type": "code",
      "metadata": {
        "id": "Y_CEkRem0G8L"
      },
      "source": [
        "# https://stackoverflow.com/questions/55233377/keras-sequential-model-with-multiple-inputs/55234203\n",
        "# https://stackoverflow.com/questions/45979848/merge-2-sequential-models-in-keras\n",
        "# https://antonsruberts.github.io/graph/gcn/\n",
        "# https://stackoverflow.com/questions/55233377/keras-sequential-model-with-multiple-inputs"
      ],
      "execution_count": null,
      "outputs": []
    },
    {
      "cell_type": "code",
      "metadata": {
        "id": "xvGhYzWHqzg7",
        "colab": {
          "base_uri": "https://localhost:8080/"
        },
        "outputId": "48d9d9b5-d13a-4978-984e-a82fba26f1ca"
      },
      "source": [
        "pip install stellargraph[demos]"
      ],
      "execution_count": 10,
      "outputs": [
        {
          "output_type": "stream",
          "name": "stdout",
          "text": [
            "Collecting stellargraph[demos]\n",
            "  Downloading stellargraph-1.2.1-py3-none-any.whl (435 kB)\n",
            "\u001b[?25l\r\u001b[K     |▊                               | 10 kB 27.8 MB/s eta 0:00:01\r\u001b[K     |█▌                              | 20 kB 21.2 MB/s eta 0:00:01\r\u001b[K     |██▎                             | 30 kB 15.3 MB/s eta 0:00:01\r\u001b[K     |███                             | 40 kB 13.6 MB/s eta 0:00:01\r\u001b[K     |███▊                            | 51 kB 5.4 MB/s eta 0:00:01\r\u001b[K     |████▌                           | 61 kB 5.9 MB/s eta 0:00:01\r\u001b[K     |█████▎                          | 71 kB 5.3 MB/s eta 0:00:01\r\u001b[K     |██████                          | 81 kB 6.0 MB/s eta 0:00:01\r\u001b[K     |██████▊                         | 92 kB 5.9 MB/s eta 0:00:01\r\u001b[K     |███████▌                        | 102 kB 5.3 MB/s eta 0:00:01\r\u001b[K     |████████▎                       | 112 kB 5.3 MB/s eta 0:00:01\r\u001b[K     |█████████                       | 122 kB 5.3 MB/s eta 0:00:01\r\u001b[K     |█████████▉                      | 133 kB 5.3 MB/s eta 0:00:01\r\u001b[K     |██████████▌                     | 143 kB 5.3 MB/s eta 0:00:01\r\u001b[K     |███████████▎                    | 153 kB 5.3 MB/s eta 0:00:01\r\u001b[K     |████████████                    | 163 kB 5.3 MB/s eta 0:00:01\r\u001b[K     |████████████▉                   | 174 kB 5.3 MB/s eta 0:00:01\r\u001b[K     |█████████████▌                  | 184 kB 5.3 MB/s eta 0:00:01\r\u001b[K     |██████████████▎                 | 194 kB 5.3 MB/s eta 0:00:01\r\u001b[K     |███████████████                 | 204 kB 5.3 MB/s eta 0:00:01\r\u001b[K     |███████████████▉                | 215 kB 5.3 MB/s eta 0:00:01\r\u001b[K     |████████████████▋               | 225 kB 5.3 MB/s eta 0:00:01\r\u001b[K     |█████████████████▎              | 235 kB 5.3 MB/s eta 0:00:01\r\u001b[K     |██████████████████              | 245 kB 5.3 MB/s eta 0:00:01\r\u001b[K     |██████████████████▉             | 256 kB 5.3 MB/s eta 0:00:01\r\u001b[K     |███████████████████▋            | 266 kB 5.3 MB/s eta 0:00:01\r\u001b[K     |████████████████████▎           | 276 kB 5.3 MB/s eta 0:00:01\r\u001b[K     |█████████████████████           | 286 kB 5.3 MB/s eta 0:00:01\r\u001b[K     |█████████████████████▉          | 296 kB 5.3 MB/s eta 0:00:01\r\u001b[K     |██████████████████████▋         | 307 kB 5.3 MB/s eta 0:00:01\r\u001b[K     |███████████████████████▍        | 317 kB 5.3 MB/s eta 0:00:01\r\u001b[K     |████████████████████████        | 327 kB 5.3 MB/s eta 0:00:01\r\u001b[K     |████████████████████████▉       | 337 kB 5.3 MB/s eta 0:00:01\r\u001b[K     |█████████████████████████▋      | 348 kB 5.3 MB/s eta 0:00:01\r\u001b[K     |██████████████████████████▍     | 358 kB 5.3 MB/s eta 0:00:01\r\u001b[K     |███████████████████████████     | 368 kB 5.3 MB/s eta 0:00:01\r\u001b[K     |███████████████████████████▉    | 378 kB 5.3 MB/s eta 0:00:01\r\u001b[K     |████████████████████████████▋   | 389 kB 5.3 MB/s eta 0:00:01\r\u001b[K     |█████████████████████████████▍  | 399 kB 5.3 MB/s eta 0:00:01\r\u001b[K     |██████████████████████████████▏ | 409 kB 5.3 MB/s eta 0:00:01\r\u001b[K     |██████████████████████████████▉ | 419 kB 5.3 MB/s eta 0:00:01\r\u001b[K     |███████████████████████████████▋| 430 kB 5.3 MB/s eta 0:00:01\r\u001b[K     |████████████████████████████████| 435 kB 5.3 MB/s \n",
            "\u001b[?25hRequirement already satisfied: networkx>=2.2 in /usr/local/lib/python3.7/dist-packages (from stellargraph[demos]) (2.6.3)\n",
            "Requirement already satisfied: scikit-learn>=0.20 in /usr/local/lib/python3.7/dist-packages (from stellargraph[demos]) (0.22.2.post1)\n",
            "Requirement already satisfied: pandas>=0.24 in /usr/local/lib/python3.7/dist-packages (from stellargraph[demos]) (1.1.5)\n",
            "Requirement already satisfied: tensorflow>=2.1.0 in /usr/local/lib/python3.7/dist-packages (from stellargraph[demos]) (2.6.0)\n",
            "Requirement already satisfied: numpy>=1.14 in /usr/local/lib/python3.7/dist-packages (from stellargraph[demos]) (1.19.5)\n",
            "Requirement already satisfied: matplotlib>=2.2 in /usr/local/lib/python3.7/dist-packages (from stellargraph[demos]) (3.2.2)\n",
            "Requirement already satisfied: scipy>=1.1.0 in /usr/local/lib/python3.7/dist-packages (from stellargraph[demos]) (1.4.1)\n",
            "Requirement already satisfied: gensim>=3.4.0 in /usr/local/lib/python3.7/dist-packages (from stellargraph[demos]) (3.6.0)\n",
            "Requirement already satisfied: jupyter in /usr/local/lib/python3.7/dist-packages (from stellargraph[demos]) (1.0.0)\n",
            "Collecting mplleaflet==0.0.5\n",
            "  Downloading mplleaflet-0.0.5.tar.gz (37 kB)\n",
            "Collecting rdflib\n",
            "  Downloading rdflib-6.0.2-py3-none-any.whl (407 kB)\n",
            "\u001b[K     |████████████████████████████████| 407 kB 39.4 MB/s \n",
            "\u001b[?25hRequirement already satisfied: seaborn in /usr/local/lib/python3.7/dist-packages (from stellargraph[demos]) (0.11.2)\n",
            "Requirement already satisfied: numba in /usr/local/lib/python3.7/dist-packages (from stellargraph[demos]) (0.51.2)\n",
            "Requirement already satisfied: jinja2 in /usr/local/lib/python3.7/dist-packages (from mplleaflet==0.0.5->stellargraph[demos]) (2.11.3)\n",
            "Requirement already satisfied: six in /usr/local/lib/python3.7/dist-packages (from mplleaflet==0.0.5->stellargraph[demos]) (1.15.0)\n",
            "Requirement already satisfied: smart-open>=1.2.1 in /usr/local/lib/python3.7/dist-packages (from gensim>=3.4.0->stellargraph[demos]) (5.2.1)\n",
            "Requirement already satisfied: cycler>=0.10 in /usr/local/lib/python3.7/dist-packages (from matplotlib>=2.2->stellargraph[demos]) (0.10.0)\n",
            "Requirement already satisfied: kiwisolver>=1.0.1 in /usr/local/lib/python3.7/dist-packages (from matplotlib>=2.2->stellargraph[demos]) (1.3.2)\n",
            "Requirement already satisfied: pyparsing!=2.0.4,!=2.1.2,!=2.1.6,>=2.0.1 in /usr/local/lib/python3.7/dist-packages (from matplotlib>=2.2->stellargraph[demos]) (2.4.7)\n",
            "Requirement already satisfied: python-dateutil>=2.1 in /usr/local/lib/python3.7/dist-packages (from matplotlib>=2.2->stellargraph[demos]) (2.8.2)\n",
            "Requirement already satisfied: pytz>=2017.2 in /usr/local/lib/python3.7/dist-packages (from pandas>=0.24->stellargraph[demos]) (2018.9)\n",
            "Requirement already satisfied: joblib>=0.11 in /usr/local/lib/python3.7/dist-packages (from scikit-learn>=0.20->stellargraph[demos]) (1.0.1)\n",
            "Requirement already satisfied: keras~=2.6 in /usr/local/lib/python3.7/dist-packages (from tensorflow>=2.1.0->stellargraph[demos]) (2.6.0)\n",
            "Requirement already satisfied: astunparse~=1.6.3 in /usr/local/lib/python3.7/dist-packages (from tensorflow>=2.1.0->stellargraph[demos]) (1.6.3)\n",
            "Requirement already satisfied: termcolor~=1.1.0 in /usr/local/lib/python3.7/dist-packages (from tensorflow>=2.1.0->stellargraph[demos]) (1.1.0)\n",
            "Requirement already satisfied: flatbuffers~=1.12.0 in /usr/local/lib/python3.7/dist-packages (from tensorflow>=2.1.0->stellargraph[demos]) (1.12)\n",
            "Requirement already satisfied: h5py~=3.1.0 in /usr/local/lib/python3.7/dist-packages (from tensorflow>=2.1.0->stellargraph[demos]) (3.1.0)\n",
            "Requirement already satisfied: tensorflow-estimator~=2.6 in /usr/local/lib/python3.7/dist-packages (from tensorflow>=2.1.0->stellargraph[demos]) (2.6.0)\n",
            "Requirement already satisfied: google-pasta~=0.2 in /usr/local/lib/python3.7/dist-packages (from tensorflow>=2.1.0->stellargraph[demos]) (0.2.0)\n",
            "Requirement already satisfied: wrapt~=1.12.1 in /usr/local/lib/python3.7/dist-packages (from tensorflow>=2.1.0->stellargraph[demos]) (1.12.1)\n",
            "Requirement already satisfied: clang~=5.0 in /usr/local/lib/python3.7/dist-packages (from tensorflow>=2.1.0->stellargraph[demos]) (5.0)\n",
            "Requirement already satisfied: grpcio<2.0,>=1.37.0 in /usr/local/lib/python3.7/dist-packages (from tensorflow>=2.1.0->stellargraph[demos]) (1.41.0)\n",
            "Requirement already satisfied: absl-py~=0.10 in /usr/local/lib/python3.7/dist-packages (from tensorflow>=2.1.0->stellargraph[demos]) (0.12.0)\n",
            "Requirement already satisfied: typing-extensions~=3.7.4 in /usr/local/lib/python3.7/dist-packages (from tensorflow>=2.1.0->stellargraph[demos]) (3.7.4.3)\n",
            "Requirement already satisfied: opt-einsum~=3.3.0 in /usr/local/lib/python3.7/dist-packages (from tensorflow>=2.1.0->stellargraph[demos]) (3.3.0)\n",
            "Requirement already satisfied: wheel~=0.35 in /usr/local/lib/python3.7/dist-packages (from tensorflow>=2.1.0->stellargraph[demos]) (0.37.0)\n",
            "Requirement already satisfied: keras-preprocessing~=1.1.2 in /usr/local/lib/python3.7/dist-packages (from tensorflow>=2.1.0->stellargraph[demos]) (1.1.2)\n",
            "Requirement already satisfied: tensorboard~=2.6 in /usr/local/lib/python3.7/dist-packages (from tensorflow>=2.1.0->stellargraph[demos]) (2.6.0)\n",
            "Requirement already satisfied: protobuf>=3.9.2 in /usr/local/lib/python3.7/dist-packages (from tensorflow>=2.1.0->stellargraph[demos]) (3.17.3)\n",
            "Requirement already satisfied: gast==0.4.0 in /usr/local/lib/python3.7/dist-packages (from tensorflow>=2.1.0->stellargraph[demos]) (0.4.0)\n",
            "Requirement already satisfied: cached-property in /usr/local/lib/python3.7/dist-packages (from h5py~=3.1.0->tensorflow>=2.1.0->stellargraph[demos]) (1.5.2)\n",
            "Requirement already satisfied: markdown>=2.6.8 in /usr/local/lib/python3.7/dist-packages (from tensorboard~=2.6->tensorflow>=2.1.0->stellargraph[demos]) (3.3.4)\n",
            "Requirement already satisfied: requests<3,>=2.21.0 in /usr/local/lib/python3.7/dist-packages (from tensorboard~=2.6->tensorflow>=2.1.0->stellargraph[demos]) (2.23.0)\n",
            "Requirement already satisfied: tensorboard-data-server<0.7.0,>=0.6.0 in /usr/local/lib/python3.7/dist-packages (from tensorboard~=2.6->tensorflow>=2.1.0->stellargraph[demos]) (0.6.1)\n",
            "Requirement already satisfied: google-auth<2,>=1.6.3 in /usr/local/lib/python3.7/dist-packages (from tensorboard~=2.6->tensorflow>=2.1.0->stellargraph[demos]) (1.35.0)\n",
            "Requirement already satisfied: google-auth-oauthlib<0.5,>=0.4.1 in /usr/local/lib/python3.7/dist-packages (from tensorboard~=2.6->tensorflow>=2.1.0->stellargraph[demos]) (0.4.6)\n",
            "Requirement already satisfied: tensorboard-plugin-wit>=1.6.0 in /usr/local/lib/python3.7/dist-packages (from tensorboard~=2.6->tensorflow>=2.1.0->stellargraph[demos]) (1.8.0)\n",
            "Requirement already satisfied: werkzeug>=0.11.15 in /usr/local/lib/python3.7/dist-packages (from tensorboard~=2.6->tensorflow>=2.1.0->stellargraph[demos]) (1.0.1)\n",
            "Requirement already satisfied: setuptools>=41.0.0 in /usr/local/lib/python3.7/dist-packages (from tensorboard~=2.6->tensorflow>=2.1.0->stellargraph[demos]) (57.4.0)\n",
            "Requirement already satisfied: pyasn1-modules>=0.2.1 in /usr/local/lib/python3.7/dist-packages (from google-auth<2,>=1.6.3->tensorboard~=2.6->tensorflow>=2.1.0->stellargraph[demos]) (0.2.8)\n",
            "Requirement already satisfied: rsa<5,>=3.1.4 in /usr/local/lib/python3.7/dist-packages (from google-auth<2,>=1.6.3->tensorboard~=2.6->tensorflow>=2.1.0->stellargraph[demos]) (4.7.2)\n",
            "Requirement already satisfied: cachetools<5.0,>=2.0.0 in /usr/local/lib/python3.7/dist-packages (from google-auth<2,>=1.6.3->tensorboard~=2.6->tensorflow>=2.1.0->stellargraph[demos]) (4.2.4)\n",
            "Requirement already satisfied: requests-oauthlib>=0.7.0 in /usr/local/lib/python3.7/dist-packages (from google-auth-oauthlib<0.5,>=0.4.1->tensorboard~=2.6->tensorflow>=2.1.0->stellargraph[demos]) (1.3.0)\n",
            "Requirement already satisfied: importlib-metadata in /usr/local/lib/python3.7/dist-packages (from markdown>=2.6.8->tensorboard~=2.6->tensorflow>=2.1.0->stellargraph[demos]) (4.8.1)\n",
            "Requirement already satisfied: pyasn1<0.5.0,>=0.4.6 in /usr/local/lib/python3.7/dist-packages (from pyasn1-modules>=0.2.1->google-auth<2,>=1.6.3->tensorboard~=2.6->tensorflow>=2.1.0->stellargraph[demos]) (0.4.8)\n",
            "Requirement already satisfied: certifi>=2017.4.17 in /usr/local/lib/python3.7/dist-packages (from requests<3,>=2.21.0->tensorboard~=2.6->tensorflow>=2.1.0->stellargraph[demos]) (2021.5.30)\n",
            "Requirement already satisfied: idna<3,>=2.5 in /usr/local/lib/python3.7/dist-packages (from requests<3,>=2.21.0->tensorboard~=2.6->tensorflow>=2.1.0->stellargraph[demos]) (2.10)\n",
            "Requirement already satisfied: urllib3!=1.25.0,!=1.25.1,<1.26,>=1.21.1 in /usr/local/lib/python3.7/dist-packages (from requests<3,>=2.21.0->tensorboard~=2.6->tensorflow>=2.1.0->stellargraph[demos]) (1.24.3)\n",
            "Requirement already satisfied: chardet<4,>=3.0.2 in /usr/local/lib/python3.7/dist-packages (from requests<3,>=2.21.0->tensorboard~=2.6->tensorflow>=2.1.0->stellargraph[demos]) (3.0.4)\n",
            "Requirement already satisfied: oauthlib>=3.0.0 in /usr/local/lib/python3.7/dist-packages (from requests-oauthlib>=0.7.0->google-auth-oauthlib<0.5,>=0.4.1->tensorboard~=2.6->tensorflow>=2.1.0->stellargraph[demos]) (3.1.1)\n",
            "Requirement already satisfied: zipp>=0.5 in /usr/local/lib/python3.7/dist-packages (from importlib-metadata->markdown>=2.6.8->tensorboard~=2.6->tensorflow>=2.1.0->stellargraph[demos]) (3.6.0)\n",
            "Requirement already satisfied: MarkupSafe>=0.23 in /usr/local/lib/python3.7/dist-packages (from jinja2->mplleaflet==0.0.5->stellargraph[demos]) (2.0.1)\n",
            "Requirement already satisfied: ipykernel in /usr/local/lib/python3.7/dist-packages (from jupyter->stellargraph[demos]) (4.10.1)\n",
            "Requirement already satisfied: qtconsole in /usr/local/lib/python3.7/dist-packages (from jupyter->stellargraph[demos]) (5.1.1)\n",
            "Requirement already satisfied: ipywidgets in /usr/local/lib/python3.7/dist-packages (from jupyter->stellargraph[demos]) (7.6.5)\n",
            "Requirement already satisfied: notebook in /usr/local/lib/python3.7/dist-packages (from jupyter->stellargraph[demos]) (5.3.1)\n",
            "Requirement already satisfied: nbconvert in /usr/local/lib/python3.7/dist-packages (from jupyter->stellargraph[demos]) (5.6.1)\n",
            "Requirement already satisfied: jupyter-console in /usr/local/lib/python3.7/dist-packages (from jupyter->stellargraph[demos]) (5.2.0)\n",
            "Requirement already satisfied: tornado>=4.0 in /usr/local/lib/python3.7/dist-packages (from ipykernel->jupyter->stellargraph[demos]) (5.1.1)\n",
            "Requirement already satisfied: ipython>=4.0.0 in /usr/local/lib/python3.7/dist-packages (from ipykernel->jupyter->stellargraph[demos]) (5.5.0)\n",
            "Requirement already satisfied: jupyter-client in /usr/local/lib/python3.7/dist-packages (from ipykernel->jupyter->stellargraph[demos]) (5.3.5)\n",
            "Requirement already satisfied: traitlets>=4.1.0 in /usr/local/lib/python3.7/dist-packages (from ipykernel->jupyter->stellargraph[demos]) (5.1.0)\n",
            "Requirement already satisfied: pexpect in /usr/local/lib/python3.7/dist-packages (from ipython>=4.0.0->ipykernel->jupyter->stellargraph[demos]) (4.8.0)\n",
            "Requirement already satisfied: pygments in /usr/local/lib/python3.7/dist-packages (from ipython>=4.0.0->ipykernel->jupyter->stellargraph[demos]) (2.6.1)\n",
            "Requirement already satisfied: decorator in /usr/local/lib/python3.7/dist-packages (from ipython>=4.0.0->ipykernel->jupyter->stellargraph[demos]) (4.4.2)\n",
            "Requirement already satisfied: pickleshare in /usr/local/lib/python3.7/dist-packages (from ipython>=4.0.0->ipykernel->jupyter->stellargraph[demos]) (0.7.5)\n",
            "Requirement already satisfied: prompt-toolkit<2.0.0,>=1.0.4 in /usr/local/lib/python3.7/dist-packages (from ipython>=4.0.0->ipykernel->jupyter->stellargraph[demos]) (1.0.18)\n",
            "Requirement already satisfied: simplegeneric>0.8 in /usr/local/lib/python3.7/dist-packages (from ipython>=4.0.0->ipykernel->jupyter->stellargraph[demos]) (0.8.1)\n",
            "Requirement already satisfied: wcwidth in /usr/local/lib/python3.7/dist-packages (from prompt-toolkit<2.0.0,>=1.0.4->ipython>=4.0.0->ipykernel->jupyter->stellargraph[demos]) (0.2.5)\n",
            "Requirement already satisfied: widgetsnbextension~=3.5.0 in /usr/local/lib/python3.7/dist-packages (from ipywidgets->jupyter->stellargraph[demos]) (3.5.1)\n",
            "Requirement already satisfied: jupyterlab-widgets>=1.0.0 in /usr/local/lib/python3.7/dist-packages (from ipywidgets->jupyter->stellargraph[demos]) (1.0.2)\n",
            "Requirement already satisfied: ipython-genutils~=0.2.0 in /usr/local/lib/python3.7/dist-packages (from ipywidgets->jupyter->stellargraph[demos]) (0.2.0)\n",
            "Requirement already satisfied: nbformat>=4.2.0 in /usr/local/lib/python3.7/dist-packages (from ipywidgets->jupyter->stellargraph[demos]) (5.1.3)\n",
            "Requirement already satisfied: jupyter-core in /usr/local/lib/python3.7/dist-packages (from nbformat>=4.2.0->ipywidgets->jupyter->stellargraph[demos]) (4.8.1)\n",
            "Requirement already satisfied: jsonschema!=2.5.0,>=2.4 in /usr/local/lib/python3.7/dist-packages (from nbformat>=4.2.0->ipywidgets->jupyter->stellargraph[demos]) (2.6.0)\n",
            "Requirement already satisfied: terminado>=0.8.1 in /usr/local/lib/python3.7/dist-packages (from notebook->jupyter->stellargraph[demos]) (0.12.1)\n",
            "Requirement already satisfied: Send2Trash in /usr/local/lib/python3.7/dist-packages (from notebook->jupyter->stellargraph[demos]) (1.8.0)\n",
            "Requirement already satisfied: pyzmq>=13 in /usr/local/lib/python3.7/dist-packages (from jupyter-client->ipykernel->jupyter->stellargraph[demos]) (22.3.0)\n",
            "Requirement already satisfied: ptyprocess in /usr/local/lib/python3.7/dist-packages (from terminado>=0.8.1->notebook->jupyter->stellargraph[demos]) (0.7.0)\n",
            "Requirement already satisfied: defusedxml in /usr/local/lib/python3.7/dist-packages (from nbconvert->jupyter->stellargraph[demos]) (0.7.1)\n",
            "Requirement already satisfied: pandocfilters>=1.4.1 in /usr/local/lib/python3.7/dist-packages (from nbconvert->jupyter->stellargraph[demos]) (1.5.0)\n",
            "Requirement already satisfied: testpath in /usr/local/lib/python3.7/dist-packages (from nbconvert->jupyter->stellargraph[demos]) (0.5.0)\n",
            "Requirement already satisfied: mistune<2,>=0.8.1 in /usr/local/lib/python3.7/dist-packages (from nbconvert->jupyter->stellargraph[demos]) (0.8.4)\n",
            "Requirement already satisfied: bleach in /usr/local/lib/python3.7/dist-packages (from nbconvert->jupyter->stellargraph[demos]) (4.1.0)\n",
            "Requirement already satisfied: entrypoints>=0.2.2 in /usr/local/lib/python3.7/dist-packages (from nbconvert->jupyter->stellargraph[demos]) (0.3)\n",
            "Requirement already satisfied: webencodings in /usr/local/lib/python3.7/dist-packages (from bleach->nbconvert->jupyter->stellargraph[demos]) (0.5.1)\n",
            "Requirement already satisfied: packaging in /usr/local/lib/python3.7/dist-packages (from bleach->nbconvert->jupyter->stellargraph[demos]) (21.0)\n",
            "Requirement already satisfied: llvmlite<0.35,>=0.34.0.dev0 in /usr/local/lib/python3.7/dist-packages (from numba->stellargraph[demos]) (0.34.0)\n",
            "Requirement already satisfied: qtpy in /usr/local/lib/python3.7/dist-packages (from qtconsole->jupyter->stellargraph[demos]) (1.11.2)\n",
            "Collecting isodate\n",
            "  Downloading isodate-0.6.0-py2.py3-none-any.whl (45 kB)\n",
            "\u001b[K     |████████████████████████████████| 45 kB 3.5 MB/s \n",
            "\u001b[?25hBuilding wheels for collected packages: mplleaflet\n",
            "  Building wheel for mplleaflet (setup.py) ... \u001b[?25l\u001b[?25hdone\n",
            "  Created wheel for mplleaflet: filename=mplleaflet-0.0.5-py3-none-any.whl size=28581 sha256=9b3d9c3cc7fa4a8c93fb6c3457c9983f566e233786ae9876bd11e95899522700\n",
            "  Stored in directory: /root/.cache/pip/wheels/6b/f5/21/cdd12e476182b4b0b98326cdb9efa02ddbd5d87ca5de051c84\n",
            "Successfully built mplleaflet\n",
            "Installing collected packages: isodate, stellargraph, rdflib, mplleaflet\n",
            "Successfully installed isodate-0.6.0 mplleaflet-0.0.5 rdflib-6.0.2 stellargraph-1.2.1\n"
          ]
        }
      ]
    },
    {
      "cell_type": "code",
      "metadata": {
        "id": "Y3tQyjbIq43S"
      },
      "source": [
        "import pandas as pd\n",
        "import numpy as np\n",
        "import stellargraph as sg\n",
        "n_node_feature = 69+64+1\n",
        "n_node_max = 100\n",
        "np.random.seed(10)\n",
        "n_class = 2\n",
        "n_edge_type = 13"
      ],
      "execution_count": 11,
      "outputs": []
    },
    {
      "cell_type": "code",
      "metadata": {
        "id": "901GnCWxq_9K"
      },
      "source": [
        "def get_graph(node_data, edge_data):\n",
        "  temp = node_data.drop(\"key\", axis=1).to_numpy()\n",
        "  features = np.zeros((n_node_max,n_node_feature))\n",
        "  features[:temp.shape[0],:temp.shape[1]] = temp\n",
        "  # features = node_data.drop(\"key\", axis=1).to_numpy()\n",
        "  adjacency = np.zeros((n_node_max,n_node_max),np.int64)\n",
        "  inds = zip(edge_data.start.astype(np.int64).to_list(), edge_data.end.astype(np.int64).to_list())\n",
        "  adjacency[edge_data.start.astype(np.int64).to_list()][edge_data.end.astype(np.int64).to_list()] += 1\n",
        "  return features ,adjacency\n",
        "\n",
        "def get_img(node_data, edge_data):\n",
        "  # w_size = nodes.shape[0]\n",
        "  # n_w = edge_data.shape[1]-2\n",
        "  # img = np.zeros((w_size,w_size,n_w))\n",
        "  img = np.zeros((n_node_max,n_node_max,n_edge_type))\n",
        "  data = edge_data.drop([\"start\", \"end\"], axis = 1).to_numpy()\n",
        "  for index, row in edge_data[[\"start\", \"end\"]].astype(np.int32).iterrows():\n",
        "    start, end = row[\"start\"], row[\"end\"]\n",
        "    img[start][end] = data[index]\n",
        "  return img\n"
      ],
      "execution_count": null,
      "outputs": []
    },
    {
      "cell_type": "code",
      "metadata": {
        "id": "whFD7B_BEtps"
      },
      "source": [
        "import tensorflow as tf\n",
        "from tensorflow.keras.models import Sequential\n",
        "from tensorflow.keras import Model\n",
        "from tensorflow.keras.layers import Dense, Conv2D, MaxPooling2D, Dropout, Flatten, GlobalAveragePooling1D,Input,concatenate,Concatenate\n",
        "from stellargraph.layer.gcn import GraphConvolution\n",
        "\n",
        "def create_cnn_model():\n",
        "    model = Sequential()\n",
        "    model.add(Conv2D(32, (3, 3), padding='same', activation='relu', input_shape=(n_node_max,n_node_max,n_edge_type)))\n",
        "    model.add(Conv2D(32, (3, 3), activation='relu'))\n",
        "    model.add(MaxPooling2D(pool_size=(2, 2)))\n",
        "    model.add(Dropout(0.25))\n",
        "\n",
        "    model.add(Conv2D(64, (3, 3), padding='same', activation='relu'))\n",
        "    model.add(Conv2D(64, (3, 3), activation='relu'))\n",
        "    model.add(MaxPooling2D(pool_size=(2, 2)))\n",
        "    model.add(Dropout(0.25))\n",
        "\n",
        "    model.add(Conv2D(64, (3, 3), padding='same', activation='relu'))\n",
        "    model.add(Conv2D(64, (3, 3), activation='relu'))\n",
        "    model.add(MaxPooling2D(pool_size=(2, 2)))\n",
        "    model.add(Dropout(0.25))\n",
        "\n",
        "    model.add(Flatten())\n",
        "    \n",
        "    return model\n",
        "\n",
        "def create_gcn_model():\n",
        "    x_features = Input(shape=( n_node_max, n_node_feature))\n",
        "    x_adjacency = Input(shape=( n_node_max, n_node_max))\n",
        "    out = Dropout(0.5)(x_features)\n",
        "    out = GraphConvolution(32, activation='relu', \n",
        "                        use_bias=True\n",
        "                        )([out, x_adjacency])\n",
        "    out = Dropout(0.5)(out)\n",
        "    out = GraphConvolution(32, activation='relu', \n",
        "                        use_bias=True\n",
        "                        )([out, x_adjacency])\n",
        "\n",
        "    out = GlobalAveragePooling1D()(out)\n",
        "    out = Flatten()(out)\n",
        "    model = Model(inputs=[x_features, x_adjacency], outputs=out)\n",
        "\n",
        "    return model"
      ],
      "execution_count": null,
      "outputs": []
    },
    {
      "cell_type": "code",
      "metadata": {
        "id": "EwW2QVnKE18p"
      },
      "source": [
        "def create_model() : \n",
        "  model1 = create_cnn_model()\n",
        "  model2 = create_gcn_model()\n",
        "\n",
        "  \n",
        "  out = Concatenate()([model1.output,model2.output])\n",
        "  out = Flatten()(out)    \n",
        "  out = Dense(256, activation='relu')(out)\n",
        "  out = Dropout(.5)(out)\n",
        "  out = Dense(128, activation='relu')(out)\n",
        "  out = Dense(n_class, activation='softmax')(out)\n",
        "\n",
        "  model = Model([model1.input,model2.input], out)\n",
        "  model.compile(optimizer=tf.keras.optimizers.Adam(), loss='categorical_crossentropy', metrics=['accuracy'])\n",
        "  model.summary()\n",
        "  return model\n"
      ],
      "execution_count": null,
      "outputs": []
    },
    {
      "cell_type": "code",
      "metadata": {
        "id": "bK0JDddQhHO_"
      },
      "source": [
        "# def train_test_split(ls_img,ls_feature, ls_adjacency,labels, ind_test ,ind_train):\n",
        "#   X_test = [ls_img[ind_test],ls_feature[ind_test],ls_adjacency[ind_test]]\n",
        "#   Y_test = labels[ind_test]\n",
        "#   X_train = [ls_img[ind_train],ls_feature[ind_train],ls_adjacency[ind_train]]\n",
        "#   Y_train = labels[ind_train]\n",
        "#   return X_test, Y_test, X_train, Y_train"
      ],
      "execution_count": null,
      "outputs": []
    },
    {
      "cell_type": "code",
      "metadata": {
        "id": "hY_XVtwxYDyK"
      },
      "source": [
        "# import os\n",
        "# from keras.utils.np_utils import to_categorical  \n",
        "# def load_dataset(input_path,test_size) :\n",
        "#   # full_data = pd.read_json(full_info_path)[[\"file_path\", \"label\"]]\n",
        "#   # full_data.file_path = full_data.file_path.apply(lambda x: x.split(\"/\")[-1])\n",
        "#   # full_data = full_data.set_index(\"file_path\")\n",
        "#   ls_feature = []\n",
        "#   ls_adjacency = []\n",
        "#   ls_img = []\n",
        "#   labels = []\n",
        "#   for root, dirs, files in os.walk(input_path, topdown=False):\n",
        "#     for dir in dirs:\n",
        "#         if \".c\" in dir :\n",
        "#           try:\n",
        "#             node_data = pd.read_csv(os.path.join(root, dir, \"nodes.csv\"))\n",
        "#             edge_data = pd.read_csv(os.path.join(root, dir, \"edges.csv\"))\n",
        "#             features, adjacency = get_graph(node_data, edge_data)\n",
        "#             img = get_img(node_data, edge_data)\n",
        "#             labels.append(1 if \"_1.c\" in dir else 0)\n",
        "#           except:\n",
        "#             continue\n",
        "          \n",
        "#           ls_feature.append(features)\n",
        "#           ls_adjacency.append(adjacency)\n",
        "#           ls_img.append(img)\n",
        "#   # return [np.array(ls_img), np.array(ls_feature), np.array(ls_adjacency)], to_categorical(labels,num_classes = full_data.label.to_numpy().max()+1)\n",
        "#   inds = np.arange(len(labels))\n",
        "#   np.random.shuffle(inds)    \n",
        "#   n_test = int(len(labels)*test_size )  \n",
        "#   ind_test = inds[:n_test] \n",
        "#   ind_train = inds[n_test:]\n",
        "#   return train_test_split(np.array(ls_img), np.array(ls_feature), np.array(ls_adjacency), to_categorical(labels,num_classes = 2), ind_test, ind_train)"
      ],
      "execution_count": null,
      "outputs": []
    },
    {
      "cell_type": "code",
      "metadata": {
        "id": "d2uLKNi4XC_m"
      },
      "source": [
        "import os\n",
        "from keras.utils.np_utils import to_categorical  \n",
        "def load_data(root_path,samples) :\n",
        "  ls_feature = []\n",
        "  ls_adjacency = []\n",
        "  ls_img = []\n",
        "  labels = []\n",
        "  for sample in samples:\n",
        "      try:\n",
        "        node_data = pd.read_csv(os.path.join(root, sample, \"nodes.csv\"))\n",
        "        edge_data = pd.read_csv(os.path.join(root, sample, \"edges.csv\"))\n",
        "        features, adjacency = get_graph(node_data, edge_data)\n",
        "        img = get_img(node_data, edge_data)\n",
        "        labels.append(1 if \"_1.c\" in dir else 0)\n",
        "      except:\n",
        "        continue\n",
        "        ls_feature.append(features)\n",
        "        ls_adjacency.append(adjacency)\n",
        "        ls_img.append(img)\n",
        "  return [np.array(ls_img), np.array(ls_feature), np.array(ls_adjacency)], to_categorical(labels,num_classes = 2)\n",
        "\n",
        "  "
      ],
      "execution_count": 24,
      "outputs": []
    },
    {
      "cell_type": "code",
      "metadata": {
        "id": "qrhVLyP5a6Ee"
      },
      "source": [
        "def split_dataset(test_size, val_size, full_data_paths):\n",
        "  # samples = pd.read_json(\"/content/drive/MyDrive/do-an/chrome_debian_full_data_with_slices.json\").file_path.apply(lambda x: x.split(\"/\")[-1]).to_list()\n",
        "  samples = pd.read_json(full_data_paths).file_path.apply(lambda x: x.split(\"/\")[-1]).to_numpy()\n",
        "  n_sample = samples.shape[0]\n",
        "  inds = np.arange(n_sample)\n",
        "  np.random.shuffle(inds)\n",
        "  if (not type(test_size) is float) or  (not type(val_size) is float):\n",
        "    raise TypeError()\n",
        "  if test_size <= 0 or test_size > 1 or val_size <= 0 or val_size > 1:\n",
        "    raise Exception()\n",
        "\n",
        "  test_lim = int(n_sample*test_size)\n",
        "  val_lim = int(n_sample*(test_size+(1-test_size)*val_size))\n",
        "  return samples[inds[:test_lim]], samples[inds[test_lim:val_lim]], samples[inds[val_lim:]]\n"
      ],
      "execution_count": 36,
      "outputs": []
    },
    {
      "cell_type": "code",
      "metadata": {
        "id": "URVrZtb-lfrQ"
      },
      "source": [
        "!unrar x \"/content/drive/MyDrive/do-an/final_final.rar\" \"/content/demo/\""
      ],
      "execution_count": null,
      "outputs": []
    },
    {
      "cell_type": "code",
      "metadata": {
        "id": "PRFTHR3ge2VZ"
      },
      "source": [
        "# X_test, Y_test, X_train, Y_train = load_dataset(\"/content/demo/\", 0.2)"
      ],
      "execution_count": null,
      "outputs": []
    },
    {
      "cell_type": "code",
      "metadata": {
        "id": "vNSGAJnZDBiU"
      },
      "source": [
        "# checkpoint_filepath = '/content/drive/MyDrive/do-an/model/gcn+cnn_final_final/checkpoint_9_10.hdf5'\n",
        "# model = create_model()\n",
        "# # monitor=\"val_loss\"\n",
        "# model_checkpoint_callback = tf.keras.callbacks.ModelCheckpoint(filepath=checkpoint_filepath,monitor='val_accuracy',save_best_only=True)\n",
        "# history = model.fit( x = X_train, y = Y_train, batch_size=10, epochs=100,callbacks = [model_checkpoint_callback], validation_split = 0.2)"
      ],
      "execution_count": null,
      "outputs": []
    },
    {
      "cell_type": "code",
      "metadata": {
        "id": "t1W62UnziotW"
      },
      "source": [
        "test_sapmles, val_samples, train_samples = split_dataset(0.2, 0.2, \"/content/drive/MyDrive/do-an/chrome_debian_full_data_with_slices.json\")\n",
        "val_data, val_label = load_data(\"/content/demo/final_final\",val_samples)"
      ],
      "execution_count": 37,
      "outputs": []
    },
    {
      "cell_type": "code",
      "metadata": {
        "id": "0emQ5ZHDjkqO"
      },
      "source": [
        "checkpoint_filepath = '/content/drive/MyDrive/do-an/model/gcn+cnn_final_final/checkpoint_9_10.hdf5'\n",
        "model_checkpoint_callback = tf.keras.callbacks.ModelCheckpoint(filepath=checkpoint_filepath,monitor='val_accuracy',save_best_only=True)\n",
        "model = create_model()\n",
        "for i in range(int(train_sample.shape[0]/1000 + 1)) :\n",
        "  x, y = load_data(\"/content/demo/final_final\",val_samples[i+1000:(i+1)*1000])\n",
        "  model.fit( x = x, y = y, batch_size=10, epochs=100,callbacks = [model_checkpoint_callback], val_data = val_data, val_label = val_label)\n",
        "  del x\n",
        "  del y\n"
      ],
      "execution_count": 29,
      "outputs": []
    },
    {
      "cell_type": "code",
      "metadata": {
        "id": "OQzRzad6f5Qe",
        "colab": {
          "base_uri": "https://localhost:8080/"
        },
        "outputId": "c55b97b8-6899-4030-cda5-733f7807ee23"
      },
      "source": [
        "from sklearn.metrics import *\n",
        "\n",
        "model = create_model()\n",
        "model.load_weights(checkpoint_filepath)\n",
        "\n",
        "del val_data if val_data in globals()\n",
        "del val_label if val_label in globals()\n",
        "\n",
        "X_test, Y_test = load_data(\"/content/demo/final_final\",test_sapmles)\n",
        "\n",
        "y_pred = model.predict(X_test).argmax(axis = 1)\n",
        "y_true =Y_test.argmax(axis = 1)\n",
        "print(classification_report(y_true, y_pred))"
      ],
      "execution_count": null,
      "outputs": [
        {
          "output_type": "stream",
          "name": "stdout",
          "text": [
            "              precision    recall  f1-score   support\n",
            "\n",
            "           0       0.99      0.96      0.97       432\n",
            "           1       0.90      0.97      0.93       172\n",
            "\n",
            "    accuracy                           0.96       604\n",
            "   macro avg       0.94      0.96      0.95       604\n",
            "weighted avg       0.96      0.96      0.96       604\n",
            "\n"
          ]
        }
      ]
    },
    {
      "cell_type": "code",
      "metadata": {
        "colab": {
          "base_uri": "https://localhost:8080/",
          "height": 282
        },
        "id": "kyNr7Qp18zot",
        "outputId": "01330d20-b16a-465e-8baa-54178e9eeefd"
      },
      "source": [
        "import seaborn as sns\n",
        "import matplotlib.pyplot as plt\n",
        "\n",
        "matrix = confusion_matrix(y_true, y_pred)\n",
        "sns.heatmap(matrix, annot=True, fmt='.0f', cmap='Blues', yticklabels=['non-vul', 'vul'],xticklabels=['non-vul', 'vul'])\n",
        "# plt.xlabel(\"Predicted\")\n",
        "# plt.ylabel(\"Actual\") "
      ],
      "execution_count": null,
      "outputs": [
        {
          "output_type": "execute_result",
          "data": {
            "text/plain": [
              "<matplotlib.axes._subplots.AxesSubplot at 0x7fbbc6c65ad0>"
            ]
          },
          "metadata": {},
          "execution_count": 16
        },
        {
          "output_type": "display_data",
          "data": {
            "image/png": "[encoded data removed]",
            "text/plain": [
              "<Figure size 432x288 with 2 Axes>"
            ]
          },
          "metadata": {
            "needs_background": "light"
          }
        }
      ]
    }
  ]
}